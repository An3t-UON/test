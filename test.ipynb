{
 "cells": [
  {
   "cell_type": "code",
   "execution_count": null,
   "id": "f63a6b50-7bba-44ca-b51b-aa755501ad95",
   "metadata": {},
   "outputs": [],
   "source": [
    "# this notebook does nothing"
   ]
  },
  {
   "cell_type": "code",
   "execution_count": null,
   "id": "8c8b316d-e072-4206-ad42-dc7034529764",
   "metadata": {},
   "outputs": [],
   "source": [
    "# add something"
   ]
  },
  {
   "cell_type": "code",
   "execution_count": null,
   "id": "6c235fb7-a691-4eca-adc9-b2ec751aca33",
   "metadata": {},
   "outputs": [],
   "source": [
    "# add something else try again"
   ]
  },
  {
   "cell_type": "code",
   "execution_count": null,
   "id": "824c9af9-b51e-441c-8aff-f64621932319",
   "metadata": {},
   "outputs": [],
   "source": [
    "# but wait there's more"
   ]
  },
  {
   "cell_type": "code",
   "execution_count": null,
   "id": "d070491a-13b2-4c92-b435-fec1d8e4ca62",
   "metadata": {},
   "outputs": [],
   "source": []
  },
  {
   "cell_type": "code",
   "execution_count": null,
   "id": "aba59dfb-4416-403c-925a-eb6e2277cd15",
   "metadata": {},
   "outputs": [],
   "source": []
  },
  {
   "cell_type": "code",
   "execution_count": null,
   "id": "02d50687-3a55-43db-968f-fcbb679aa0ea",
   "metadata": {},
   "outputs": [],
   "source": []
  }
 ],
 "metadata": {
  "kernelspec": {
   "display_name": "Python 3 (ipykernel)",
   "language": "python",
   "name": "python3"
  },
  "language_info": {
   "codemirror_mode": {
    "name": "ipython",
    "version": 3
   },
   "file_extension": ".py",
   "mimetype": "text/x-python",
   "name": "python",
   "nbconvert_exporter": "python",
   "pygments_lexer": "ipython3",
   "version": "3.8.10"
  }
 },
 "nbformat": 4,
 "nbformat_minor": 5
}

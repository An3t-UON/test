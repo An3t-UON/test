{
 "cells": [
  {
   "cell_type": "code",
   "execution_count": null,
   "id": "f63a6b50-7bba-44ca-b51b-aa755501ad95",
   "metadata": {},
   "outputs": [],
   "source": [
    "# this notebook does nothing"
   ]
  },
  {
   "cell_type": "code",
   "execution_count": null,
   "id": "8c8b316d-e072-4206-ad42-dc7034529764",
   "metadata": {},
   "outputs": [],
   "source": [
    "# add something"
   ]
  },
  {
   "cell_type": "code",
   "execution_count": null,
   "id": "6c235fb7-a691-4eca-adc9-b2ec751aca33",
   "metadata": {},
   "outputs": [],
   "source": []
  }
 ],
 "metadata": {
  "kernelspec": {
   "display_name": "Python 3 (ipykernel)",
   "language": "python",
   "name": "python3"
  },
  "language_info": {
   "codemirror_mode": {
    "name": "ipython",
    "version": 3
   },
   "file_extension": ".py",
   "mimetype": "text/x-python",
   "name": "python",
   "nbconvert_exporter": "python",
   "pygments_lexer": "ipython3",
   "version": "3.8.10"
  }
 },
 "nbformat": 4,
 "nbformat_minor": 5
}
